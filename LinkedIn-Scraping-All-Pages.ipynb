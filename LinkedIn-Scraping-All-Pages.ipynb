{
 "cells": [
  {
   "cell_type": "code",
   "execution_count": 1,
   "id": "45c08c04",
   "metadata": {},
   "outputs": [],
   "source": [
    "from selenium import webdriver\n",
    "from selenium.webdriver.support.select import Select\n",
    "from selenium.webdriver.support.ui import WebDriverWait\n",
    "from selenium.webdriver.common.by import By\n",
    "from selenium.webdriver.support import expected_conditions as ec\n",
    "from selenium.webdriver.chrome.service import Service\n",
    "from webdriver_manager.chrome import ChromeDriverManager\n",
    "\n",
    "import os\n",
    "import time\n",
    "import pandas as pd\n",
    "import tkinter as tk\n",
    "from tkinter import messagebox"
   ]
  },
  {
   "cell_type": "code",
   "execution_count": 2,
   "id": "d8a5b8cc",
   "metadata": {},
   "outputs": [],
   "source": [
    "# home_url = 'https://www.linkedin.com/login'\n",
    "\n",
    "# mail = 'navidalazim95@gmail.com'\n",
    "# password = 'Navid@6969'"
   ]
  },
  {
   "cell_type": "code",
   "execution_count": 3,
   "id": "8e0a7694",
   "metadata": {},
   "outputs": [],
   "source": [
    "# service = Service(ChromeDriverManager().install())\n",
    "# driver = webdriver.Chrome(service = service)"
   ]
  },
  {
   "cell_type": "code",
   "execution_count": 4,
   "id": "c613acc8",
   "metadata": {},
   "outputs": [],
   "source": [
    "# driver.get(home_url)\n",
    "# driver.implicitly_wait(5)"
   ]
  },
  {
   "cell_type": "code",
   "execution_count": 5,
   "id": "1cd97460",
   "metadata": {},
   "outputs": [],
   "source": [
    "# driver.find_element(By.XPATH, \"//input[@type = 'text']\").send_keys(mail)\n",
    "# driver.find_element(By.XPATH, \"//input[@type = 'password']\").send_keys(password)\n",
    "# driver.find_element(By.XPATH,\"//button[@class='btn__primary--large from__button--floating']\").click()"
   ]
  },
  {
   "cell_type": "code",
   "execution_count": 6,
   "id": "5c935e76",
   "metadata": {},
   "outputs": [],
   "source": [
    "# url = 'https://www.linkedin.com/jobs/search/?currentJobId=3970858637&keywords=analyst&location=Dhaka%2C%20Bangladesh&origin=JOBS_HOME_SEARCH_BUTTON&refresh=true'"
   ]
  },
  {
   "cell_type": "code",
   "execution_count": 7,
   "id": "456b07e8",
   "metadata": {},
   "outputs": [],
   "source": [
    "# service = Service(ChromeDriverManager().install())\n",
    "# driver = webdriver.Chrome(service = service)\n",
    "# job_data = []"
   ]
  },
  {
   "cell_type": "code",
   "execution_count": 8,
   "id": "2a2389ff",
   "metadata": {},
   "outputs": [],
   "source": [
    "def scrape_jobs(driver, job_data):\n",
    "    jobs = driver.find_elements(By.XPATH, \"//ul[@class='scaffold-layout__list-container']/li\")\n",
    "\n",
    "    for job in jobs:\n",
    "        driver.execute_script(\"arguments[0].scrollIntoView();\", job)\n",
    "        time.sleep(1)\n",
    "        try:\n",
    "            job_title = driver.find_element(By.XPATH,\"//h1[@class='t-24 t-bold inline']\").text\n",
    "        except:\n",
    "            job_title = None\n",
    "        try:\n",
    "            company_name = driver.find_element(By.XPATH, \"//div[@class='job-details-jobs-unified-top-card__company-name']\").text\n",
    "        except:\n",
    "            company_name = None\n",
    "        try:\n",
    "            posted_on = driver.find_element(By.XPATH,\"//div[1]//div[1]//main[1]//div[1]//div[2]//div[2]//div[1]//div[2]//div[1]//div[1]//div[1]//div[1]//div[1]//div[1]//div[1]//div[3]//div[1]//span[3]\").text\n",
    "        except:\n",
    "            posted_on = None\n",
    "        try:\n",
    "            num_app = driver.find_element(By.XPATH,\"//div[1]//div[1]//main[1]//div[1]//div[2]//div[2]//div[1]//div[2]//div[1]//div[1]//div[1]//div[1]//div[1]//div[1]//div[1]//div[3]//div[1]//span[5]\").text\n",
    "        except:\n",
    "            num_app = None\n",
    "        try:\n",
    "            job_link = driver.find_element(By.XPATH, \"//a[@class = 'disabled ember-view job-card-container__link job-card-list__title job-card-list__title--link']\").get_attribute(\"href\")\n",
    "        except:\n",
    "            job_link = None\n",
    "            \n",
    "        job_data.append({\n",
    "            'Job Title': job_title,\n",
    "            'Company Name': company_name,\n",
    "            'Location': 'Dhaka, Bangladesh',\n",
    "            'Posted On': posted_on,\n",
    "            'Number of Applicants': num_app,\n",
    "            'Link': job_link\n",
    "        })    "
   ]
  },
  {
   "cell_type": "code",
   "execution_count": 9,
   "id": "13ba73e4",
   "metadata": {},
   "outputs": [],
   "source": [
    "def next_page(driver):\n",
    "    try:\n",
    "        next_button = driver.find_element(By.XPATH, \"//button[@class = 'artdeco-button artdeco-button--muted artdeco-button--icon-right artdeco-button--1 artdeco-button--tertiary ember-view jobs-search-pagination__button jobs-search-pagination__button--next']\")\n",
    "        next_button.click()\n",
    "        time.sleep(2)\n",
    "        return True\n",
    "    except:\n",
    "        return False"
   ]
  },
  {
   "cell_type": "code",
   "execution_count": 10,
   "id": "b04858ed",
   "metadata": {},
   "outputs": [],
   "source": [
    "# driver.get(url)"
   ]
  },
  {
   "cell_type": "code",
   "execution_count": 11,
   "id": "772aa741",
   "metadata": {},
   "outputs": [],
   "source": [
    "# while True:\n",
    "#     scrape_jobs()\n",
    "#     if not next_page():\n",
    "#         break\n",
    "def start_scraping():\n",
    "    home_url = 'https://www.linkedin.com/login'\n",
    "\n",
    "    mail = 'enter your linkedin email/username'\n",
    "    password = 'enter your linkedin password'\n",
    "    \n",
    "    service = Service(ChromeDriverManager().install())\n",
    "    driver = webdriver.Chrome(service = service)\n",
    "    job_data = []\n",
    "\n",
    "\n",
    "    driver.get(home_url)\n",
    "    driver.implicitly_wait(5)\n",
    "\n",
    "    driver.find_element(By.XPATH, \"//input[@type = 'text']\").send_keys(mail)\n",
    "    driver.find_element(By.XPATH, \"//input[@type = 'password']\").send_keys(password)\n",
    "    driver.find_element(By.XPATH,\"//button[@class='btn__primary--large from__button--floating']\").click()\n",
    "    url = 'https://www.linkedin.com/jobs/search/?currentJobId=3970858637&keywords=analyst&location=Dhaka%2C%20Bangladesh&origin=JOBS_HOME_SEARCH_BUTTON&refresh=true'\n",
    "    \n",
    "    driver.get(url)\n",
    "    while True:\n",
    "        scrape_jobs(driver, job_data)\n",
    "        if not next_page(driver):\n",
    "            break\n",
    "    driver.quit()\n",
    "    \n",
    "    df = pd.DataFrame(job_data)\n",
    "    df.to_csv(\"Data_Analyst_Jobs.csv\", index = True)\n",
    "    \n"
   ]
  },
  {
   "cell_type": "code",
   "execution_count": 12,
   "id": "6ac9e93a",
   "metadata": {},
   "outputs": [],
   "source": [
    "# driver.quit()"
   ]
  },
  {
   "cell_type": "code",
   "execution_count": 13,
   "id": "3e1f4914",
   "metadata": {},
   "outputs": [],
   "source": [
    "# df = pd.DataFrame(job_data)\n",
    "# df"
   ]
  },
  {
   "cell_type": "code",
   "execution_count": 14,
   "id": "410eab81",
   "metadata": {},
   "outputs": [],
   "source": [
    "# df.to_csv(\"Data_Analyst_Jobs.csv\", index = True)"
   ]
  },
  {
   "cell_type": "code",
   "execution_count": 15,
   "id": "cb948a80",
   "metadata": {},
   "outputs": [],
   "source": [
    "def create_ui():\n",
    "    root = tk.Tk()\n",
    "    root.title(\"Job Scraper\")\n",
    "    \n",
    "    btn_scrape = tk.Button(root, text = \"Start Scraping\", command = start_scraping)\n",
    "    btn_scrape.pack(pady=20)\n",
    "    \n",
    "    root.mainloop()"
   ]
  },
  {
   "cell_type": "code",
   "execution_count": 16,
   "id": "a879c03b",
   "metadata": {},
   "outputs": [],
   "source": [
    "start_scraping()"
   ]
  },
  {
   "cell_type": "code",
   "execution_count": null,
   "id": "e2af1346",
   "metadata": {},
   "outputs": [],
   "source": []
  }
 ],
 "metadata": {
  "kernelspec": {
   "display_name": "Python 3 (ipykernel)",
   "language": "python",
   "name": "python3"
  },
  "language_info": {
   "codemirror_mode": {
    "name": "ipython",
    "version": 3
   },
   "file_extension": ".py",
   "mimetype": "text/x-python",
   "name": "python",
   "nbconvert_exporter": "python",
   "pygments_lexer": "ipython3",
   "version": "3.10.6"
  }
 },
 "nbformat": 4,
 "nbformat_minor": 5
}
