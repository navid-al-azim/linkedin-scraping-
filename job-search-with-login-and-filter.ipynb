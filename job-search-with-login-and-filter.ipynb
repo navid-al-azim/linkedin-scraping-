{
 "cells": [
  {
   "cell_type": "code",
   "execution_count": 1,
   "id": "9d29f1f7",
   "metadata": {},
   "outputs": [],
   "source": [
    "from selenium import webdriver\n",
    "from selenium.webdriver.support.select import Select\n",
    "from selenium.webdriver.support.ui import WebDriverWait\n",
    "from selenium.webdriver.common.by import By\n",
    "from selenium.webdriver.support import expected_conditions as ec\n",
    "from selenium.webdriver.chrome.service import Service\n",
    "from webdriver_manager.chrome import ChromeDriverManager\n",
    "from selenium.common.exceptions import StaleElementReferenceException, TimeoutException\n",
    "\n",
    "import os\n",
    "import time\n",
    "import pandas as pd\n",
    "import getpass"
   ]
  },
  {
   "cell_type": "code",
   "execution_count": 2,
   "id": "38f2f42c",
   "metadata": {},
   "outputs": [
    {
     "name": "stdout",
     "output_type": "stream",
     "text": [
      "LinkedIn Email/Username: navidalazim95@gmail.com\n",
      "LinkedIn Password: ········\n",
      "Enter the Keyword: analyst\n",
      "Enter the Location: rangpur\n"
     ]
    }
   ],
   "source": [
    "home_url = 'https://www.linkedin.com/login'\n",
    "\n",
    "mail = input('LinkedIn Email/Username: ')\n",
    "password = getpass.getpass('LinkedIn Password: ')\n",
    "    \n",
    "service = Service(ChromeDriverManager().install())\n",
    "driver = webdriver.Chrome(service = service)\n",
    "job_data = []\n",
    "\n",
    "\n",
    "driver.get(home_url)\n",
    "driver.implicitly_wait(5)\n",
    "\n",
    "driver.find_element(By.XPATH, \"//input[@type = 'text']\").send_keys(mail)\n",
    "driver.find_element(By.XPATH, \"//input[@type = 'password']\").send_keys(password)\n",
    "driver.find_element(By.XPATH,\"//button[@class='btn__primary--large from__button--floating']\").click()\n",
    "keyword = input('Enter the Keyword: ')\n",
    "location = input('Enter the Location: ')\n",
    "url = f'https://www.linkedin.com/jobs/search/?keywords={keyword}&location={location}'"
   ]
  },
  {
   "cell_type": "markdown",
   "id": "2ca4f2d1",
   "metadata": {},
   "source": [
    "###### "
   ]
  },
  {
   "cell_type": "code",
   "execution_count": 3,
   "id": "ec130462",
   "metadata": {},
   "outputs": [],
   "source": [
    "driver.get(url)"
   ]
  },
  {
   "cell_type": "code",
   "execution_count": 4,
   "id": "53ed2f06",
   "metadata": {},
   "outputs": [],
   "source": [
    "def scrape_job():\n",
    "    jobs = driver.find_elements(By.XPATH, \"//ul[@class='scaffold-layout__list-container']/li\")\n",
    "\n",
    "    for job in jobs:\n",
    "        driver.execute_script(\"arguments[0].scrollIntoView();\", job)\n",
    "        time.sleep(1)\n",
    "        try:\n",
    "            job_title = driver.find_element(By.XPATH,\"//h1[@class='t-24 t-bold inline']\").text\n",
    "        except:\n",
    "            job_title = None\n",
    "        try:\n",
    "            company_name = driver.find_element(By.XPATH, \"//div[@class='job-details-jobs-unified-top-card__company-name']\").text\n",
    "        except:\n",
    "            company_name = None\n",
    "        try:\n",
    "            posted_on = driver.find_element(By.XPATH,\"//div[1]//div[1]//main[1]//div[1]//div[2]//div[2]//div[1]//div[2]//div[1]//div[1]//div[1]//div[1]//div[1]//div[1]//div[1]//div[3]//div[1]//span[3]\").text\n",
    "        except:\n",
    "            posted_on = None\n",
    "        try:\n",
    "            num_app = driver.find_element(By.XPATH,\"//div[1]//div[1]//main[1]//div[1]//div[2]//div[2]//div[1]//div[2]//div[1]//div[1]//div[1]//div[1]//div[1]//div[1]//div[1]//div[3]//div[1]//span[5]\").text\n",
    "        except:\n",
    "            num_app = None\n",
    "        try:\n",
    "            job_link = driver.find_element(By.XPATH, \"//a[@class = 'disabled ember-view job-card-container__link job-card-list__title job-card-list__title--link']\").get_attribute(\"href\")\n",
    "        except:\n",
    "            job_link = None\n",
    "\n",
    "        job_data.append({\n",
    "            'Job Title': job_title,\n",
    "            'Company Name': company_name,\n",
    "            'Location': location,\n",
    "            'Posted On': posted_on,\n",
    "            'Number of Applicants': num_app,\n",
    "            'Link': job_link\n",
    "        })\n",
    "    \n"
   ]
  },
  {
   "cell_type": "code",
   "execution_count": 5,
   "id": "3427ff36",
   "metadata": {},
   "outputs": [],
   "source": [
    "def next_page(driver):\n",
    "    try:\n",
    "        next_button = driver.find_element(By.XPATH, \"//button[@class = 'artdeco-button artdeco-button--muted artdeco-button--icon-right artdeco-button--1 artdeco-button--tertiary ember-view jobs-search-pagination__button jobs-search-pagination__button--next']\")\n",
    "        next_button.click()\n",
    "        time.sleep(2)\n",
    "        return True\n",
    "    except:\n",
    "        return False"
   ]
  },
  {
   "cell_type": "code",
   "execution_count": 6,
   "id": "9ebf49ec",
   "metadata": {},
   "outputs": [],
   "source": [
    "def start_scraping():\n",
    "    while True:\n",
    "        try:\n",
    "            scrape_job()\n",
    "            if not next_page(driver):\n",
    "                break\n",
    "            \n",
    "        except (StaleElementReferenceException, TimeoutException):\n",
    "            # If an exception occurs, refresh the elements and retry\n",
    "            print(\"Encountered StaleElementReferenceException, retrying...\")\n",
    "            time.sleep(2)\n",
    "            continue\n",
    "\n",
    "        except Exception as e:\n",
    "            print(f\"An error occurred: {e}\")\n",
    "            break\n",
    "        \n",
    "    driver.quit()\n",
    "            \n",
    "    df = pd.DataFrame(job_data)\n",
    "    df.to_csv('filtered_list.csv', index = False)"
   ]
  },
  {
   "cell_type": "code",
   "execution_count": 7,
   "id": "a47c0339",
   "metadata": {},
   "outputs": [
    {
     "name": "stdout",
     "output_type": "stream",
     "text": [
      "Encountered StaleElementReferenceException, retrying...\n"
     ]
    }
   ],
   "source": [
    "start_scraping()"
   ]
  },
  {
   "cell_type": "code",
   "execution_count": null,
   "id": "ddc6be91",
   "metadata": {},
   "outputs": [],
   "source": []
  }
 ],
 "metadata": {
  "kernelspec": {
   "display_name": "Python 3 (ipykernel)",
   "language": "python",
   "name": "python3"
  },
  "language_info": {
   "codemirror_mode": {
    "name": "ipython",
    "version": 3
   },
   "file_extension": ".py",
   "mimetype": "text/x-python",
   "name": "python",
   "nbconvert_exporter": "python",
   "pygments_lexer": "ipython3",
   "version": "3.10.6"
  }
 },
 "nbformat": 4,
 "nbformat_minor": 5
}
